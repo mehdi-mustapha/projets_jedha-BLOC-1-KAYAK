{
 "cells": [
  {
   "cell_type": "markdown",
   "id": "cacbcaea-7e4f-4788-bba0-aa550d6d5787",
   "metadata": {},
   "source": [
    "# Projet : Planifier mes prochaines vacances \n",
    "\n",
    "### Nettoyage et analyse des données que nous avons collectées sur les villes et les hôtels. À la fin, il faut les enregistrer dans un seau S3 de notre compte AWS."
   ]
  },
  {
   "cell_type": "markdown",
   "id": "ba5d6df7-96a0-4e21-998b-6d1525ee94b5",
   "metadata": {},
   "source": [
    "## Import librairies"
   ]
  },
  {
   "cell_type": "code",
   "execution_count": 1,
   "id": "17f02603-c0bb-4748-a409-8cb82c8a73f5",
   "metadata": {},
   "outputs": [
    {
     "name": "stdout",
     "output_type": "stream",
     "text": [
      "Requirement already satisfied: boto3 in /opt/conda/lib/python3.9/site-packages (1.21.18)\n",
      "Requirement already satisfied: botocore<1.25.0,>=1.24.18 in /opt/conda/lib/python3.9/site-packages (from boto3) (1.24.18)\n",
      "Requirement already satisfied: jmespath<1.0.0,>=0.7.1 in /opt/conda/lib/python3.9/site-packages (from boto3) (0.10.0)\n",
      "Requirement already satisfied: s3transfer<0.6.0,>=0.5.0 in /opt/conda/lib/python3.9/site-packages (from boto3) (0.5.2)\n",
      "Requirement already satisfied: urllib3<1.27,>=1.25.4 in /opt/conda/lib/python3.9/site-packages (from botocore<1.25.0,>=1.24.18->boto3) (1.26.8)\n",
      "Requirement already satisfied: python-dateutil<3.0.0,>=2.1 in /opt/conda/lib/python3.9/site-packages (from botocore<1.25.0,>=1.24.18->boto3) (2.8.2)\n",
      "Requirement already satisfied: six>=1.5 in /opt/conda/lib/python3.9/site-packages (from python-dateutil<3.0.0,>=2.1->botocore<1.25.0,>=1.24.18->boto3) (1.16.0)\n"
     ]
    }
   ],
   "source": [
    "!pip install boto3\n",
    "# !pip install plotly\n",
    "# !jupyter labextension install jupyterlab-plotly"
   ]
  },
  {
   "cell_type": "code",
   "execution_count": 2,
   "id": "e4594360-9343-4a2f-8496-6a76a9d73ee5",
   "metadata": {},
   "outputs": [],
   "source": [
    "import pandas as pd\n",
    "import glob\n",
    "import plotly.express as px\n",
    "import boto3"
   ]
  },
  {
   "cell_type": "markdown",
   "id": "e1bcea1c-4707-4f21-b46e-28a71c9c0caa",
   "metadata": {},
   "source": [
    "## 1. Lire le fichier `.csv` qui contient des informations sur les villes et la météo."
   ]
  },
  {
   "cell_type": "code",
   "execution_count": 3,
   "id": "92ecd72b-318e-4670-a228-74d9b3d7334e",
   "metadata": {},
   "outputs": [
    {
     "data": {
      "text/html": [
       "<div>\n",
       "<style scoped>\n",
       "    .dataframe tbody tr th:only-of-type {\n",
       "        vertical-align: middle;\n",
       "    }\n",
       "\n",
       "    .dataframe tbody tr th {\n",
       "        vertical-align: top;\n",
       "    }\n",
       "\n",
       "    .dataframe thead th {\n",
       "        text-align: right;\n",
       "    }\n",
       "</style>\n",
       "<table border=\"1\" class=\"dataframe\">\n",
       "  <thead>\n",
       "    <tr style=\"text-align: right;\">\n",
       "      <th></th>\n",
       "      <th>city_id</th>\n",
       "      <th>name</th>\n",
       "      <th>latitude</th>\n",
       "      <th>longitude</th>\n",
       "      <th>main_weather</th>\n",
       "      <th>expected_rain</th>\n",
       "      <th>day_temperature</th>\n",
       "      <th>rank</th>\n",
       "      <th>inverted_rank</th>\n",
       "    </tr>\n",
       "  </thead>\n",
       "  <tbody>\n",
       "    <tr>\n",
       "      <th>0</th>\n",
       "      <td>21</td>\n",
       "      <td>Aix en Provence</td>\n",
       "      <td>43.529842</td>\n",
       "      <td>5.447474</td>\n",
       "      <td>Clouds</td>\n",
       "      <td>0.2327</td>\n",
       "      <td>14.34500</td>\n",
       "      <td>1</td>\n",
       "      <td>35</td>\n",
       "    </tr>\n",
       "    <tr>\n",
       "      <th>1</th>\n",
       "      <td>22</td>\n",
       "      <td>Avignon</td>\n",
       "      <td>43.949249</td>\n",
       "      <td>4.805901</td>\n",
       "      <td>Rain</td>\n",
       "      <td>2.2042</td>\n",
       "      <td>15.93750</td>\n",
       "      <td>2</td>\n",
       "      <td>34</td>\n",
       "    </tr>\n",
       "    <tr>\n",
       "      <th>2</th>\n",
       "      <td>8</td>\n",
       "      <td>Strasbourg</td>\n",
       "      <td>48.584614</td>\n",
       "      <td>7.750713</td>\n",
       "      <td>Clouds</td>\n",
       "      <td>2.5916</td>\n",
       "      <td>12.34875</td>\n",
       "      <td>3</td>\n",
       "      <td>33</td>\n",
       "    </tr>\n",
       "    <tr>\n",
       "      <th>3</th>\n",
       "      <td>2</td>\n",
       "      <td>Bayeux</td>\n",
       "      <td>49.276462</td>\n",
       "      <td>-0.702474</td>\n",
       "      <td>Rain</td>\n",
       "      <td>2.8621</td>\n",
       "      <td>11.71000</td>\n",
       "      <td>4</td>\n",
       "      <td>32</td>\n",
       "    </tr>\n",
       "    <tr>\n",
       "      <th>4</th>\n",
       "      <td>20</td>\n",
       "      <td>Marseille</td>\n",
       "      <td>43.296174</td>\n",
       "      <td>5.369953</td>\n",
       "      <td>Clouds</td>\n",
       "      <td>3.5174</td>\n",
       "      <td>14.50125</td>\n",
       "      <td>5</td>\n",
       "      <td>31</td>\n",
       "    </tr>\n",
       "  </tbody>\n",
       "</table>\n",
       "</div>"
      ],
      "text/plain": [
       "   city_id             name   latitude  longitude main_weather  expected_rain  \\\n",
       "0       21  Aix en Provence  43.529842   5.447474       Clouds         0.2327   \n",
       "1       22          Avignon  43.949249   4.805901         Rain         2.2042   \n",
       "2        8       Strasbourg  48.584614   7.750713       Clouds         2.5916   \n",
       "3        2           Bayeux  49.276462  -0.702474         Rain         2.8621   \n",
       "4       20        Marseille  43.296174   5.369953       Clouds         3.5174   \n",
       "\n",
       "   day_temperature  rank  inverted_rank  \n",
       "0         14.34500     1             35  \n",
       "1         15.93750     2             34  \n",
       "2         12.34875     3             33  \n",
       "3         11.71000     4             32  \n",
       "4         14.50125     5             31  "
      ]
     },
     "execution_count": 3,
     "metadata": {},
     "output_type": "execute_result"
    }
   ],
   "source": [
    "cities = pd.read_csv('res/1_destinations.csv')\n",
    "cities.head()"
   ]
  },
  {
   "cell_type": "markdown",
   "id": "2f47bdf2-3396-4f1d-91f6-c0495f43e5ce",
   "metadata": {},
   "source": [
    "## 2. Lire les fichiers `.json` contenant les informations sur les hôtels et les enregistrez dans un seul Dataframe pandas. \n",
    "### on va enregistrer dans ce  Dataframe ces informations:\n",
    "\n",
    "#### - le nom de la ville\n",
    "#### - id de la ville \n",
    "#### - créer une colonne contenant un identifiant unique de l'hôtel (hotel_id)\n",
    "#### - le nom de l'hôtel\n",
    "#### - l'url\n",
    "#### - la latitude\n",
    "#### - la longitude"
   ]
  },
  {
   "cell_type": "code",
   "execution_count": 4,
   "id": "9ec601d6-7e99-4990-95e9-56ed3d0487e5",
   "metadata": {
    "tags": []
   },
   "outputs": [],
   "source": [
    "# Récupérer tous les fichiers du dossier `res` en commençant par `2_hotels_` et \n",
    "# en finissant par `.json`\n",
    "\n",
    "hotel_files = glob.glob('res/2_hotels_''.json')\n",
    "\n",
    "# Créer un nouveau DataFrame\n",
    "\n",
    "hotels = pd.DataFrame(columns = ['city_id', 'city_name', 'hotel_id', 'name', 'url', 'latitude', 'longitude', 'score', 'description'])\n",
    "\n",
    "# Itérer sur tous les fichiers JSON\n",
    "\n",
    "for f in hotel_files:\n",
    "    city_name = f.split('_')[2].split('.')[0].replace(\"-\",\" \")\n",
    "    city_id = cities.loc[cities['name'] == city_name,'city_id'].values[0]\n",
    "    \n",
    "    print(\"Processing {}\".format(city_name))\n",
    "    \n",
    "    # Lire les fichiers json et ajouter hotel_id, city_id et city_name dans les DataFrames\n",
    "    \n",
    "    temp_dataset = pd.read_json(f)\n",
    "    temp_dataset = temp_dataset.reset_index().rename({'index': 'hotel_id'}, axis = 1)\n",
    "    temp_dataset.loc[:,'city_id'] = city_id\n",
    "    temp_dataset.loc[:,'city_name'] = city_name\n",
    "    \n",
    "   # Nettoyer les champs de texte\n",
    "\n",
    "    temp_dataset.loc[:, 'name'] = temp_dataset['name'].str.replace('\\n', '')\n",
    "    temp_dataset.loc[:, 'url'] = temp_dataset['url'].str.replace('\\n', '')\n",
    "    temp_dataset.loc[:, 'description'] = temp_dataset['description'].str.replace('\\n', '')\n",
    "    \n",
    "   # Extraire la latitude et la longitude\n",
    "    \n",
    "    temp_dataset.loc[:,'coords'] = temp_dataset['coords'].str.split(',')\n",
    "    temp_dataset.loc[:, 'longitude'] = temp_dataset['coords'].apply(lambda x : x[0])\n",
    "    temp_dataset.loc[:, 'latitude'] = temp_dataset['coords'].apply(lambda x : x[1])\n",
    "    \n",
    "    # Suppression de la colonne coords (qui n'est plus utile)\n",
    "    \n",
    "    temp_dataset = temp_dataset.drop('coords', axis=1)\n",
    "    \n",
    "    # Ajouter au cadre de données de l'hôtel\n",
    "    \n",
    "    hotels = hotels.append(temp_dataset)"
   ]
  },
  {
   "cell_type": "code",
   "execution_count": 7,
   "id": "e497a7f1-1958-4787-8a0c-feada3ee91e4",
   "metadata": {},
   "outputs": [
    {
     "data": {
      "text/html": [
       "<div>\n",
       "<style scoped>\n",
       "    .dataframe tbody tr th:only-of-type {\n",
       "        vertical-align: middle;\n",
       "    }\n",
       "\n",
       "    .dataframe tbody tr th {\n",
       "        vertical-align: top;\n",
       "    }\n",
       "\n",
       "    .dataframe thead th {\n",
       "        text-align: right;\n",
       "    }\n",
       "</style>\n",
       "<table border=\"1\" class=\"dataframe\">\n",
       "  <thead>\n",
       "    <tr style=\"text-align: right;\">\n",
       "      <th></th>\n",
       "      <th>city_id</th>\n",
       "      <th>city_name</th>\n",
       "      <th>hotel_id</th>\n",
       "      <th>name</th>\n",
       "      <th>url</th>\n",
       "      <th>latitude</th>\n",
       "      <th>longitude</th>\n",
       "      <th>score</th>\n",
       "      <th>description</th>\n",
       "    </tr>\n",
       "  </thead>\n",
       "  <tbody>\n",
       "  </tbody>\n",
       "</table>\n",
       "</div>"
      ],
      "text/plain": [
       "Empty DataFrame\n",
       "Columns: [city_id, city_name, hotel_id, name, url, latitude, longitude, score, description]\n",
       "Index: []"
      ]
     },
     "execution_count": 7,
     "metadata": {},
     "output_type": "execute_result"
    }
   ],
   "source": [
    "# Contrôle\n",
    "hotels.head()"
   ]
  },
  {
   "cell_type": "code",
   "execution_count": null,
   "id": "1f1e43d5-765a-4344-983e-deeb5c2b6108",
   "metadata": {},
   "outputs": [],
   "source": [
    "# Convert columns to convenient types\n",
    "hotels.loc[:, 'score'] = hotels['score'].str.replace(',','.')\n",
    "hotels = hotels.astype({'city_id': int,\n",
    "                        'hotel_id': int,\n",
    "                        'latitude': float,\n",
    "                        'longitude': float,\n",
    "                        'score': float})"
   ]
  },
  {
   "cell_type": "code",
   "execution_count": null,
   "id": "da62da2a-7572-4eb6-b455-2f52defc8c1b",
   "metadata": {},
   "outputs": [],
   "source": [
    "# Contrôle\n",
    "hotels.head()"
   ]
  },
  {
   "cell_type": "markdown",
   "id": "b4124c51-820e-4517-a3d6-6f3d821d78f6",
   "metadata": {},
   "source": [
    "### 3. Enregistrez le DataFrame contenant toutes les informations sur les hôtels dans un fichier `.csv` :"
   ]
  },
  {
   "cell_type": "code",
   "execution_count": null,
   "id": "b145cdae-daac-4ba0-bf40-1b0eac2e905c",
   "metadata": {},
   "outputs": [],
   "source": [
    "# Sauvegarder le DataFrame des hôtels dans un fichier .csv\n",
    "\n",
    "hotels.to_csv('res/3_hotels.csv', index=False)"
   ]
  },
  {
   "cell_type": "markdown",
   "id": "75eefd81-f265-46e7-b2f2-f740798e2566",
   "metadata": {},
   "source": [
    "### 4. Facultatif : utilisez Plotly pour afficher tous les hôtels sur une carte :"
   ]
  },
  {
   "cell_type": "code",
   "execution_count": null,
   "id": "9ea3f769-dbb1-4064-90ab-ced47c2588e3",
   "metadata": {},
   "outputs": [],
   "source": [
    "hotels_with_score = hotels.loc[hotels['score'].notnull(),:]\n",
    "\n",
    "fig = px.scatter_mapbox(hotels_with_score, lat=\"latitude\", lon=\"longitude\", hover_name = 'name', zoom = 4,\n",
    "                        hover_data = ['description'],\n",
    "                        color = 'score', color_continuous_scale = 'thermal',\n",
    "                        mapbox_style=\"carto-positron\")\n",
    "fig.show('iframe')"
   ]
  },
  {
   "cell_type": "markdown",
   "id": "a4f928d4-815c-4204-9df2-650c7b5882e4",
   "metadata": {},
   "source": [
    "### 5. Utilisez `boto3` pour enregistrer les DataFrames sur les villes et les hôtels dans des fichiers `.csv` situés dans un nouveau seau S3 de votre compte AWS :"
   ]
  },
  {
   "cell_type": "code",
   "execution_count": null,
   "id": "a7da31bc-13f0-4799-a7e7-11ca705e83e9",
   "metadata": {},
   "outputs": [],
   "source": [
    "# Initier une nouvelle session (si .aws/credentials n'existe pas)\n",
    "\n",
    "# session = boto3.Session(aws_access_key_id=\"YOUR_ACCESS_KEY_ID\", \n",
    "#                         aws_secret_access_key=\"YOUR_SECRET_ACCESS_KEY\")\n",
    "\n",
    "\n",
    "# Déclarez l'objet s3 et créez un nouveau seau(bucket)\n",
    "\n",
    "s3 = boto3.resource(\"s3\")  # s3 = session.resource(\"s3\")\n",
    "bucket_name = s3.create_bucket(Bucket=\"Kayak\")\n",
    "\n",
    "# Exporter les hôtels vers un fichier CSV et le télécharger.\n",
    "\n",
    "hotels_csv = hotels.to_csv(index=False)\n",
    "put_object = bucket_name.put_object(Key = \"hotels.csv\", Body = hotels_csv)\n",
    "\n",
    "# Do the same for cities\n",
    "cities_csv = cities.to_csv(index=False)\n",
    "put_object = bucket_name.put_object(Key = \"cities.csv\", Body = cities_csv)"
   ]
  },
  {
   "cell_type": "code",
   "execution_count": null,
   "id": "d814f1c4-1a38-4476-9a09-af18934bf9b2",
   "metadata": {},
   "outputs": [],
   "source": []
  }
 ],
 "metadata": {
  "kernelspec": {
   "display_name": "Python 3 (ipykernel)",
   "language": "python",
   "name": "python3"
  },
  "language_info": {
   "codemirror_mode": {
    "name": "ipython",
    "version": 3
   },
   "file_extension": ".py",
   "mimetype": "text/x-python",
   "name": "python",
   "nbconvert_exporter": "python",
   "pygments_lexer": "ipython3",
   "version": "3.9.7"
  }
 },
 "nbformat": 4,
 "nbformat_minor": 5
}
